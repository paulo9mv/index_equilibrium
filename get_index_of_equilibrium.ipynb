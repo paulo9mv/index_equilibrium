def getIndexOfEquilibrium(arr):
    total_sum = sum(arr) # O(n)
    left_sum = 0 # O(1)
    for pos, val in enumerate(arr): # O(n)
        total_sum -= val            # O(1)
         
        if left_sum == total_sum:   # O(1)
            return pos  
        left_sum += val             # O(1)

    return -1

# O(n) + O(n) + O(1) + O(1) + O(1) + O(1) = O(n)


lst = []
 
n = int(input("Enter number of elements : "))
 
for i in range(0, n):
    ele = int(input())
 
    lst.append(ele)

print(getIndexOfEquilibrium(lst))
